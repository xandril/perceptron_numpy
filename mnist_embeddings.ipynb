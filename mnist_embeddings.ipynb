{
 "cells": [
  {
   "cell_type": "code",
   "execution_count": 19,
   "id": "initial_id",
   "metadata": {
    "collapsed": true,
    "ExecuteTime": {
     "end_time": "2023-12-17T08:43:43.704487200Z",
     "start_time": "2023-12-17T08:43:43.684898900Z"
    }
   },
   "outputs": [],
   "source": [
    "import numpy as np\n",
    "\n",
    "from model.perceptron import Perceptron"
   ]
  },
  {
   "cell_type": "code",
   "execution_count": 20,
   "outputs": [],
   "source": [
    "from pathlib import Path\n",
    "\n",
    "perceptron = Perceptron.load_model(store_path=Path('stored_model/acc_0_96.pkl'))"
   ],
   "metadata": {
    "collapsed": false,
    "ExecuteTime": {
     "end_time": "2023-12-17T08:43:43.727381100Z",
     "start_time": "2023-12-17T08:43:43.704487200Z"
    }
   },
   "id": "6523a202ce0c1cbc"
  },
  {
   "cell_type": "code",
   "execution_count": 21,
   "outputs": [
    {
     "data": {
      "text/plain": "[<model.layers.DenseLayer at 0x181c7c074f0>,\n <model.activation_functions.ReLU at 0x181c7c06fe0>,\n <model.layers.DenseLayer at 0x181c7c070d0>,\n <model.activation_functions.ReLU at 0x181c7c078b0>,\n <model.layers.DenseLayer at 0x181c7c07340>,\n <model.activation_functions.ReLU at 0x181c7c07190>]"
     },
     "execution_count": 21,
     "metadata": {},
     "output_type": "execute_result"
    }
   ],
   "source": [
    "layers = perceptron._layers\n",
    "layers"
   ],
   "metadata": {
    "collapsed": false,
    "ExecuteTime": {
     "end_time": "2023-12-17T08:43:43.735655200Z",
     "start_time": "2023-12-17T08:43:43.718445100Z"
    }
   },
   "id": "c91e459d71ba4818"
  },
  {
   "cell_type": "code",
   "execution_count": 22,
   "outputs": [
    {
     "data": {
      "text/plain": "[<model.layers.DenseLayer at 0x181c7c074f0>,\n <model.activation_functions.ReLU at 0x181c7c06fe0>,\n <model.layers.DenseLayer at 0x181c7c070d0>,\n <model.activation_functions.ReLU at 0x181c7c078b0>]"
     },
     "execution_count": 22,
     "metadata": {},
     "output_type": "execute_result"
    }
   ],
   "source": [
    "backbone_layers = layers[0:4]\n",
    "backbone_layers"
   ],
   "metadata": {
    "collapsed": false,
    "ExecuteTime": {
     "end_time": "2023-12-17T08:43:43.749193500Z",
     "start_time": "2023-12-17T08:43:43.735052500Z"
    }
   },
   "id": "2385e023574cef88"
  },
  {
   "cell_type": "code",
   "execution_count": 23,
   "outputs": [],
   "source": [
    "emb_perceptron = Perceptron(backbone_layers)"
   ],
   "metadata": {
    "collapsed": false,
    "ExecuteTime": {
     "end_time": "2023-12-17T08:43:43.793694Z",
     "start_time": "2023-12-17T08:43:43.750215700Z"
    }
   },
   "id": "5d2f0dd2d2bf6679"
  },
  {
   "cell_type": "code",
   "execution_count": 24,
   "outputs": [],
   "source": [
    "from load_mnist import mnist\n",
    "from gym import split_reminder\n",
    "\n",
    "(X_train, y_train, X_test, y_test) = mnist(path='./data')\n",
    "y_train = y_train % 2\n",
    "y_test = y_test % 2\n",
    "\n"
   ],
   "metadata": {
    "collapsed": false,
    "ExecuteTime": {
     "end_time": "2023-12-17T08:43:44.077733500Z",
     "start_time": "2023-12-17T08:43:43.765476500Z"
    }
   },
   "id": "70508f802d13188"
  },
  {
   "cell_type": "code",
   "execution_count": 29,
   "outputs": [],
   "source": [
    "def predict(X: np.ndarray, model: Perceptron) -> np.ndarray:\n",
    "    batched_X = split_reminder(X, 1)\n",
    "    res = []\n",
    "    for x in batched_X:\n",
    "        out = model.forward(x)  # shape 1, n\n",
    "        res.append(out)\n",
    "    return np.stack(res).squeeze()\n",
    "\n",
    "\n",
    "train_embeddings = predict(X_train, emb_perceptron)\n",
    "test_embeddings = predict(X_test, emb_perceptron)"
   ],
   "metadata": {
    "collapsed": false,
    "ExecuteTime": {
     "end_time": "2023-12-17T08:51:06.487273900Z",
     "start_time": "2023-12-17T08:50:58.251365900Z"
    }
   },
   "id": "b31e335dab262b1f"
  },
  {
   "cell_type": "code",
   "execution_count": 33,
   "outputs": [],
   "source": [
    "from sklearn.linear_model import LogisticRegression\n",
    "\n",
    "log_reg = LogisticRegression(max_iter=500)\n",
    "fitted_log_reg = log_reg.fit(train_embeddings, y_train)\n"
   ],
   "metadata": {
    "collapsed": false,
    "ExecuteTime": {
     "end_time": "2023-12-17T08:51:40.156038800Z",
     "start_time": "2023-12-17T08:51:39.855097400Z"
    }
   },
   "id": "671a6b7a27a1c572"
  },
  {
   "cell_type": "code",
   "execution_count": 35,
   "outputs": [],
   "source": [
    "test_predicts = fitted_log_reg.predict(test_embeddings)"
   ],
   "metadata": {
    "collapsed": false,
    "ExecuteTime": {
     "end_time": "2023-12-17T08:52:06.378766300Z",
     "start_time": "2023-12-17T08:52:06.368751200Z"
    }
   },
   "id": "163ad5d7af6035b"
  },
  {
   "cell_type": "code",
   "execution_count": 37,
   "outputs": [
    {
     "name": "stdout",
     "output_type": "stream",
     "text": [
      "              precision    recall  f1-score   support\n",
      "\n",
      "           0       0.93      0.92      0.92      4926\n",
      "           1       0.92      0.93      0.93      5074\n",
      "\n",
      "    accuracy                           0.92     10000\n",
      "   macro avg       0.92      0.92      0.92     10000\n",
      "weighted avg       0.92      0.92      0.92     10000\n"
     ]
    }
   ],
   "source": [
    "from sklearn.metrics import classification_report\n",
    "print(classification_report(y_true=y_test, y_pred=test_predicts))"
   ],
   "metadata": {
    "collapsed": false,
    "ExecuteTime": {
     "end_time": "2023-12-17T08:52:41.808100900Z",
     "start_time": "2023-12-17T08:52:41.735845100Z"
    }
   },
   "id": "787b3bce6a7522f5"
  },
  {
   "cell_type": "code",
   "execution_count": null,
   "outputs": [],
   "source": [],
   "metadata": {
    "collapsed": false
   },
   "id": "695ebe95b3b03d9e"
  }
 ],
 "metadata": {
  "kernelspec": {
   "display_name": "Python 3",
   "language": "python",
   "name": "python3"
  },
  "language_info": {
   "codemirror_mode": {
    "name": "ipython",
    "version": 2
   },
   "file_extension": ".py",
   "mimetype": "text/x-python",
   "name": "python",
   "nbconvert_exporter": "python",
   "pygments_lexer": "ipython2",
   "version": "2.7.6"
  }
 },
 "nbformat": 4,
 "nbformat_minor": 5
}
