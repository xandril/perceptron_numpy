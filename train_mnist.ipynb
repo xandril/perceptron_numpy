{
 "cells": [
  {
   "cell_type": "code",
   "execution_count": 6,
   "id": "f109e61aa23c84bb",
   "metadata": {
    "collapsed": true,
    "ExecuteTime": {
     "end_time": "2023-12-17T07:50:32.267213700Z",
     "start_time": "2023-12-17T07:50:32.254144600Z"
    }
   },
   "outputs": [],
   "source": [
    "from gym import Gym\n",
    "from load_mnist import mnist\n",
    "from model.activation_functions import ReLU\n",
    "from model.layers import DenseLayer\n",
    "from model.loss_functions import SoftMaxCrossEntropy\n",
    "from model.perceptron import PerceptronClassifier"
   ]
  },
  {
   "cell_type": "code",
   "execution_count": 7,
   "outputs": [],
   "source": [
    "\n",
    "(X_train, y_train, X_test, y_test) = mnist(path='./data')\n"
   ],
   "metadata": {
    "collapsed": false,
    "ExecuteTime": {
     "end_time": "2023-12-17T07:50:32.854020Z",
     "start_time": "2023-12-17T07:50:32.564964600Z"
    }
   },
   "id": "initial_id"
  },
  {
   "cell_type": "code",
   "execution_count": 11,
   "outputs": [],
   "source": [
    "layers = [\n",
    "    DenseLayer(input_size=28 * 28, output_size=25, bias=True),\n",
    "    ReLU(),\n",
    "    DenseLayer(input_size=25, output_size=15, bias=True),\n",
    "    ReLU(),\n",
    "    DenseLayer(input_size=15, output_size=10, bias=True),\n",
    "    ReLU()\n",
    "]"
   ],
   "metadata": {
    "collapsed": false,
    "ExecuteTime": {
     "end_time": "2023-12-17T07:51:29.508929400Z",
     "start_time": "2023-12-17T07:51:29.497814400Z"
    }
   },
   "id": "bffd55b8c589ecba"
  },
  {
   "cell_type": "code",
   "execution_count": 12,
   "outputs": [],
   "source": [
    "mlp_cl = PerceptronClassifier(layers)\n",
    "gym = Gym(mlp_cl, loss_function=SoftMaxCrossEntropy())\n"
   ],
   "metadata": {
    "collapsed": false,
    "ExecuteTime": {
     "end_time": "2023-12-17T07:51:29.913044500Z",
     "start_time": "2023-12-17T07:51:29.904996500Z"
    }
   },
   "id": "d0ee366f26b20c39"
  },
  {
   "cell_type": "code",
   "execution_count": 13,
   "outputs": [
    {
     "name": "stderr",
     "output_type": "stream",
     "text": [
      "avg_epoch_loss: 0.02625581864660577: 100%|██████████| 50/50 [01:48<00:00,  2.17s/it] \n"
     ]
    }
   ],
   "source": [
    "train_loss = gym.fit(X_train, y_train, lr=1e-3, epoch_count=50, batch_size=3)\n"
   ],
   "metadata": {
    "collapsed": false,
    "ExecuteTime": {
     "end_time": "2023-12-17T07:53:19.348480300Z",
     "start_time": "2023-12-17T07:51:30.723100400Z"
    }
   },
   "id": "c95b756dd0f1a785"
  },
  {
   "cell_type": "code",
   "execution_count": 14,
   "outputs": [
    {
     "name": "stdout",
     "output_type": "stream",
     "text": [
      "              precision    recall  f1-score   support\n",
      "\n",
      "           0       0.97      0.99      0.98       980\n",
      "           1       0.97      0.98      0.98      1135\n",
      "           2       0.96      0.97      0.96      1032\n",
      "           3       0.96      0.95      0.95      1010\n",
      "           4       0.98      0.95      0.96       982\n",
      "           5       0.92      0.97      0.94       892\n",
      "           6       0.97      0.96      0.97       958\n",
      "           7       0.98      0.96      0.97      1028\n",
      "           8       0.97      0.95      0.96       974\n",
      "           9       0.95      0.96      0.95      1009\n",
      "\n",
      "    accuracy                           0.96     10000\n",
      "   macro avg       0.96      0.96      0.96     10000\n",
      "weighted avg       0.96      0.96      0.96     10000\n"
     ]
    }
   ],
   "source": [
    "from gym import test_classificator\n",
    "\n",
    "print(test_classificator(mlp_cl, X_test, y_test))\n"
   ],
   "metadata": {
    "collapsed": false,
    "ExecuteTime": {
     "end_time": "2023-12-17T07:54:05.553979700Z",
     "start_time": "2023-12-17T07:54:04.254977300Z"
    }
   },
   "id": "2909a976f6b3dd4e"
  },
  {
   "cell_type": "code",
   "execution_count": 15,
   "outputs": [],
   "source": [
    "from pathlib import Path\n",
    "\n",
    "mlp_cl.store_model(Path('./stored_model/acc_0_96.pkl'))"
   ],
   "metadata": {
    "collapsed": false,
    "ExecuteTime": {
     "end_time": "2023-12-17T07:57:54.062411300Z",
     "start_time": "2023-12-17T07:57:54.055397600Z"
    }
   },
   "id": "1440772b66c837bb"
  },
  {
   "cell_type": "code",
   "execution_count": 17,
   "outputs": [
    {
     "data": {
      "text/plain": "[<matplotlib.lines.Line2D at 0x212ce0752a0>]"
     },
     "execution_count": 17,
     "metadata": {},
     "output_type": "execute_result"
    },
    {
     "data": {
      "text/plain": "<Figure size 640x480 with 1 Axes>",
      "image/png": "[encoded data removed]"
     },
     "metadata": {},
     "output_type": "display_data"
    }
   ],
   "source": [
    "import numpy as np\n",
    "import matplotlib.pyplot as plt\n",
    "plt.title(\"logloss \") \n",
    "plt.plot(np.array(train_loss))"
   ],
   "metadata": {
    "collapsed": false,
    "ExecuteTime": {
     "end_time": "2023-12-17T08:19:45.409575600Z",
     "start_time": "2023-12-17T08:19:45.294442600Z"
    }
   },
   "id": "9574f0673bfe7275"
  },
  {
   "cell_type": "code",
   "execution_count": null,
   "outputs": [],
   "source": [],
   "metadata": {
    "collapsed": false
   },
   "id": "9d9dc459c020e40b"
  }
 ],
 "metadata": {
  "kernelspec": {
   "display_name": "Python 3",
   "language": "python",
   "name": "python3"
  },
  "language_info": {
   "codemirror_mode": {
    "name": "ipython",
    "version": 2
   },
   "file_extension": ".py",
   "mimetype": "text/x-python",
   "name": "python",
   "nbconvert_exporter": "python",
   "pygments_lexer": "ipython2",
   "version": "2.7.6"
  }
 },
 "nbformat": 4,
 "nbformat_minor": 5
}
